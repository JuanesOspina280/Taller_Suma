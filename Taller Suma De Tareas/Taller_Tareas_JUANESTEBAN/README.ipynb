{
 "cells": [
  {
   "cell_type": "markdown",
   "metadata": {},
   "source": [
    "# Registro y listado de estudiantes\n",
    "#### Desarrollado por: `Juan Esteban Ospina`."
   ]
  },
  {
   "cell_type": "markdown",
   "metadata": {},
   "source": [
    "\n",
    "## Funcionalidades\n",
    "\n",
    "1. **Agregar Estudiantes**: Permite ingresar el nombre, edad y programa de estudio de un estudiante.\n",
    "2. **Mostrar Estudiantes**: Muestra una lista de todos los estudiantes registrados.\n",
    "3. **Validación de Entradas**: Verifica que los campos no estén vacíos antes de agregar un estudiante.\n",
    "4. **Mensajes de Confirmación**: Informa al usuario cuando un estudiante ha sido registrado correctamente o si se intenta enviar campos vacíos.\n"
   ]
  },
  {
   "cell_type": "markdown",
   "metadata": {},
   "source": [
    "## Cómo Usar el Programa\n",
    "\n",
    "1. Ejecuta el script en un entorno Python con soporte para `tkinter`.\n",
    "2. En la ventana inicial, selecciona \"Agregar Estudiantes\" para ingresar la información de un nuevo estudiante.\n",
    "3. Completa los campos requeridos y haz clic en \"Agregar Estudiante\" para registrar al estudiante.\n",
    "4. Puedes ver la lista de estudiantes registrados haciendo clic en \"Mostrar Estudiantes\".\n"
   ]
  },
  {
   "cell_type": "markdown",
   "metadata": {},
   "source": [
    "\n",
    "## Requisitos\n",
    "\n",
    "- Python 3.x\n",
    "- Biblioteca `tkinter` (generalmente incluida en las instalaciones de Python)\n"
   ]
  },
  {
   "cell_type": "markdown",
   "metadata": {},
   "source": [
    "## Autor\n",
    "\n",
    "`Juan Esteban Ospina Zapata`."
   ]
  },
  {
   "cell_type": "markdown",
   "metadata": {},
   "source": []
  }
 ],
 "metadata": {
  "language_info": {
   "name": "python"
  }
 },
 "nbformat": 4,
 "nbformat_minor": 2
}
